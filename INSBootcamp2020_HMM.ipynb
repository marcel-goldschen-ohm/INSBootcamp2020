{
 "cells": [
  {
   "cell_type": "code",
   "execution_count": null,
   "metadata": {},
   "outputs": [],
   "source": [
    "import numpy as np\n",
    "import scipy as sp\n",
    "import scipy.stats as st\n",
    "import matplotlib.pyplot as plt\n",
    "%config InlineBackend.figure_format = 'retina'\n",
    "import matplotlib as mpl\n",
    "mpl.rcParams['axes.labelsize'] = 18\n",
    "mpl.rcParams['axes.titlesize'] = 18\n",
    "mpl.rcParams['figure.figsize'] = (15, 5)"
   ]
  },
  {
   "cell_type": "markdown",
   "metadata": {},
   "source": [
    "---\n",
    "# 2-State (Closed $\\rightleftarrows$ Open) HMM for an ion channel"
   ]
  },
  {
   "cell_type": "markdown",
   "metadata": {},
   "source": [
    "### Starting probability in each state:"
   ]
  },
  {
   "cell_type": "code",
   "execution_count": null,
   "metadata": {},
   "outputs": [],
   "source": [
    "p0 = np.array([0.5, 0.5])  # P(C), P(O)"
   ]
  },
  {
   "cell_type": "markdown",
   "metadata": {},
   "source": [
    "### Transition probabilities per time step:"
   ]
  },
  {
   "cell_type": "code",
   "execution_count": null,
   "metadata": {},
   "outputs": [],
   "source": [
    "trans = np.array([[0.95, 0.05],   # P(C->C), P(C->O)\n",
    "                  [0.15, 0.85]])  # P(O->C), P(O->O)"
   ]
  },
  {
   "cell_type": "markdown",
   "metadata": {},
   "source": [
    "### Emission distributions for each state:"
   ]
  },
  {
   "cell_type": "code",
   "execution_count": null,
   "metadata": {},
   "outputs": [],
   "source": [
    "emis = [st.norm(0, 1), st.norm(5, 1)]"
   ]
  },
  {
   "cell_type": "markdown",
   "metadata": {},
   "source": [
    "---\n",
    "# HMM Simulation"
   ]
  },
  {
   "cell_type": "code",
   "execution_count": null,
   "metadata": {},
   "outputs": [],
   "source": [
    "def simulateHMM(p0, trans, emis, numSamples):\n",
    "    numStates = len(p0)\n",
    "    stateIds = range(numStates)  # 0, 1, ..., numStates-1\n",
    "    \n",
    "    # preallocate simulation arrays\n",
    "    states = np.zeros(numSamples, dtype=int)\n",
    "    observations = np.zeros(numSamples)\n",
    "    \n",
    "    # randomly assign starting state\n",
    "    states[0] = np.random.choice(stateIds, p=p0)\n",
    "    \n",
    "    # randomly assign subsequent states based on the transition probabilities\n",
    "    for t in range(numSamples-1):\n",
    "        state = states[t]\n",
    "        states[t+1] = np.random.choice(stateIds, p=trans[state,:])\n",
    "    \n",
    "    # randomly draw state observations from emission distributions\n",
    "    for state in stateIds:\n",
    "        stateMask = states == state\n",
    "        observations[stateMask] = emis[state].rvs(stateMask.sum())\n",
    "    \n",
    "    return states, observations"
   ]
  },
  {
   "cell_type": "code",
   "execution_count": null,
   "metadata": {},
   "outputs": [],
   "source": [
    "states, observations = simulateHMM(p0, trans, emis, 1000)"
   ]
  },
  {
   "cell_type": "code",
   "execution_count": null,
   "metadata": {},
   "outputs": [],
   "source": [
    "plt.plot(states)\n",
    "plt.yticks(np.unique(states))\n",
    "plt.xlabel('Time Point')\n",
    "plt.ylabel('State')\n",
    "plt.title('State Sequence');"
   ]
  },
  {
   "cell_type": "code",
   "execution_count": null,
   "metadata": {},
   "outputs": [],
   "source": [
    "plt.plot(observations)\n",
    "plt.xlabel('Time Point')\n",
    "plt.ylabel('Observed (pA)')\n",
    "plt.title('Observed Sequence');"
   ]
  },
  {
   "cell_type": "markdown",
   "metadata": {},
   "source": [
    "---\n",
    "# Threshold Idealization of Observations"
   ]
  },
  {
   "cell_type": "code",
   "execution_count": null,
   "metadata": {},
   "outputs": [],
   "source": [
    "threshold = 2.5\n",
    "predictedStates = np.zeros(observations.shape, dtype=int)\n",
    "predictedStates[observations < threshold] = 0\n",
    "predictedStates[observations >= threshold] = 1"
   ]
  },
  {
   "cell_type": "code",
   "execution_count": null,
   "metadata": {},
   "outputs": [],
   "source": [
    "plt.plot(observations, alpha=0.2)\n",
    "plt.scatter(range(len(observations)), observations, marker='.', c=predictedStates, cmap='cool')\n",
    "plt.axhline(threshold)\n",
    "plt.plot(states + 10)\n",
    "plt.xlabel('Time Point')\n",
    "plt.ylabel('Observed (pA)')\n",
    "plt.title('Observed Sequence colored by Predicted State');"
   ]
  },
  {
   "cell_type": "markdown",
   "metadata": {},
   "source": [
    "# <font color=red> How well did thresholding do?"
   ]
  },
  {
   "cell_type": "markdown",
   "metadata": {},
   "source": [
    "# <font color=red> Can you think of a case where thresholding won't work well?"
   ]
  },
  {
   "cell_type": "markdown",
   "metadata": {},
   "source": [
    "## Other clustering methods such as GMMs, kmeans, etc. can also classify states by amplitude."
   ]
  },
  {
   "cell_type": "markdown",
   "metadata": {},
   "source": [
    "---\n",
    "# Filtering and Missed Events"
   ]
  },
  {
   "cell_type": "code",
   "execution_count": null,
   "metadata": {},
   "outputs": [],
   "source": [
    "dt_ms = 0.1\n",
    "fs_kHz = 1 / dt_ms\n",
    "time_ms = np.arange(len(observations)) * dt_ms"
   ]
  },
  {
   "cell_type": "code",
   "execution_count": null,
   "metadata": {},
   "outputs": [],
   "source": [
    "from scipy import signal\n",
    "\n",
    "lowpass2kHz = signal.firwin(301, 2, nyq=fs_kHz/2)\n",
    "lowpass1kHz = signal.firwin(301, 1, nyq=fs_kHz/2)\n",
    "\n",
    "filtered2kHz = np.convolve(observations, lowpass2kHz, 'same')\n",
    "filtered1kHz = np.convolve(observations, lowpass1kHz, 'same')\n",
    "\n",
    "plt.plot(time_ms, observations, alpha=0.5, label='unfiltered')\n",
    "plt.plot(time_ms, filtered2kHz, lw=2, label='fc=2kHz')\n",
    "plt.plot(time_ms, filtered1kHz, lw=2, label='fc=1kHz')\n",
    "plt.axhline(threshold)\n",
    "plt.xlabel('Time (ms)')\n",
    "plt.ylabel('Observed (pA)');\n",
    "plt.legend();"
   ]
  },
  {
   "cell_type": "markdown",
   "metadata": {},
   "source": [
    "# <font color=red> Examine the plot and see if you can think of a pro and a con of filtering."
   ]
  },
  {
   "cell_type": "markdown",
   "metadata": {},
   "source": [
    "---\n",
    "# 3-State (Closed $\\rightleftarrows$ Open $\\rightleftarrows$ Desensitized) HMM for an ion channel"
   ]
  },
  {
   "cell_type": "markdown",
   "metadata": {},
   "source": [
    "### Starting probability in each state:"
   ]
  },
  {
   "cell_type": "code",
   "execution_count": null,
   "metadata": {},
   "outputs": [],
   "source": [
    "p0 = np.array([1, 0, 0])  # P(C), P(O), P(D)"
   ]
  },
  {
   "cell_type": "markdown",
   "metadata": {},
   "source": [
    "### Transition probabilities per time step:"
   ]
  },
  {
   "cell_type": "code",
   "execution_count": null,
   "metadata": {},
   "outputs": [],
   "source": [
    "trans = np.array([[0.950, 0.050, 0.000],   # P(C->C), P(C->O), P(C->D)\n",
    "                  [0.030, 0.950, 0.020],   # P(O->C), P(O->O), P(O->D)\n",
    "                  [0.000, 0.004, 0.996]])  # P(D->C), P(D->O), P(D->D)"
   ]
  },
  {
   "cell_type": "markdown",
   "metadata": {},
   "source": [
    "### Emission distributions for each state:"
   ]
  },
  {
   "cell_type": "code",
   "execution_count": null,
   "metadata": {},
   "outputs": [],
   "source": [
    "emis = [st.norm(0, 1), st.norm(5, 1), st.norm(0, 1)]"
   ]
  },
  {
   "cell_type": "markdown",
   "metadata": {},
   "source": [
    "### Simulate some data for the HMM:"
   ]
  },
  {
   "cell_type": "code",
   "execution_count": null,
   "metadata": {},
   "outputs": [],
   "source": [
    "states, observations = simulateHMM(p0, trans, emis, 100000)"
   ]
  },
  {
   "cell_type": "code",
   "execution_count": null,
   "metadata": {},
   "outputs": [],
   "source": [
    "n = 10000\n",
    "plt.plot(states[:n])\n",
    "plt.yticks(np.unique(states))\n",
    "plt.xlabel('Time Point')\n",
    "plt.ylabel('State')\n",
    "plt.title('State Sequence');"
   ]
  },
  {
   "cell_type": "code",
   "execution_count": null,
   "metadata": {},
   "outputs": [],
   "source": [
    "n = 10000\n",
    "plt.plot(observations[:n])\n",
    "plt.xlabel('Time Point')\n",
    "plt.ylabel('Observed (pA)')\n",
    "plt.title('Observed Sequence');"
   ]
  },
  {
   "cell_type": "code",
   "execution_count": null,
   "metadata": {},
   "outputs": [],
   "source": [
    "n = 10000\n",
    "plt.plot(observations[:n], alpha=0.2)\n",
    "plt.scatter(range(n), observations[:n], marker='.', c=states[:n], cmap='cool')\n",
    "plt.xlabel('Time Point')\n",
    "plt.ylabel('Observed (pA)')\n",
    "plt.title('Colored by True Simulated State');"
   ]
  },
  {
   "cell_type": "markdown",
   "metadata": {},
   "source": [
    "---\n",
    "# Dwell Time Distributions"
   ]
  },
  {
   "cell_type": "code",
   "execution_count": null,
   "metadata": {},
   "outputs": [],
   "source": [
    "dwelltimes = {}\n",
    "for i in np.unique(states):\n",
    "    dwelltimes[i] = []\n",
    "for i, state in enumerate(states):\n",
    "    if i > 0 and states[i-1] == state:\n",
    "        dwelltimes[state][-1] += 1\n",
    "    else:\n",
    "        dwelltimes[state].append(1)\n",
    "\n",
    "closedTimes = dwelltimes[0] + dwelltimes[2]\n",
    "openTimes = dwelltimes[1]\n",
    "\n",
    "dt_ms = 0.1\n",
    "closedTimes_ms = np.array(closedTimes) * dt_ms\n",
    "openTimes_ms = np.array(openTimes) * dt_ms"
   ]
  },
  {
   "cell_type": "code",
   "execution_count": null,
   "metadata": {},
   "outputs": [],
   "source": [
    "plt.subplot(121)\n",
    "binedges = np.linspace(0.2, 20, 30)\n",
    "plt.hist(openTimes_ms, binedges, alpha=0.5)\n",
    "plt.xlabel('Open Lifetime (ms)')\n",
    "plt.ylabel('Counts')\n",
    "\n",
    "plt.subplot(122)\n",
    "binedges = np.linspace(0.2, 20, 30)\n",
    "plt.hist(closedTimes_ms, binedges, alpha=0.5)\n",
    "plt.xlabel('Closed Lifetime (ms)');"
   ]
  },
  {
   "cell_type": "markdown",
   "metadata": {},
   "source": [
    "# <font color=red> Dwelltimes are often binned and plotted on a logscale. Why do you think that is?"
   ]
  },
  {
   "cell_type": "code",
   "execution_count": null,
   "metadata": {},
   "outputs": [],
   "source": [
    "plt.subplot(121)\n",
    "binedges = np.logspace(-0.5, 3, 30)\n",
    "plt.hist(openTimes_ms, binedges, alpha=0.5)\n",
    "plt.xlabel('Open Lifetime (ms)')\n",
    "plt.ylabel('Counts')\n",
    "plt.xscale('log')\n",
    "\n",
    "plt.subplot(122)\n",
    "binedges = np.logspace(-0.5, 3, 30)\n",
    "plt.hist(closedTimes_ms, binedges, alpha=0.5)\n",
    "plt.xlabel('Closed Lifetime (ms)')\n",
    "plt.ylabel('Counts')\n",
    "plt.xscale('log');"
   ]
  },
  {
   "cell_type": "markdown",
   "metadata": {},
   "source": [
    "---\n",
    "# Observtions $\\rightarrow$ HMM"
   ]
  },
  {
   "cell_type": "code",
   "execution_count": null,
   "metadata": {},
   "outputs": [],
   "source": [
    "# conda install pomegranate\n",
    "import pomegranate as pom\n",
    "import pandas as pd"
   ]
  },
  {
   "cell_type": "markdown",
   "metadata": {},
   "source": [
    "### Postulate a HMM to explain the observations."
   ]
  },
  {
   "cell_type": "code",
   "execution_count": null,
   "metadata": {},
   "outputs": [],
   "source": [
    "hmm = pom.HiddenMarkovModel()\n",
    "\n",
    "# states\n",
    "C = pom.State(pom.NormalDistribution(0, 0.8), name='Closed')\n",
    "O = pom.State(pom.NormalDistribution(5, 1), name='Open')\n",
    "D = pom.State(pom.NormalDistribution(0, 0.8), name='Desensitized')\n",
    "hmm.add_states([C, O, D])\n",
    "\n",
    "# starting probability in each state\n",
    "hmm.add_transition(hmm.start, C, 0.9)\n",
    "hmm.add_transition(hmm.start, O, 0.1)\n",
    "\n",
    "# transition probabilites per time step between states\n",
    "hmm.add_transition(C, C, 0.90)\n",
    "hmm.add_transition(C, O, 0.10)\n",
    "\n",
    "hmm.add_transition(O, C, 0.05)\n",
    "hmm.add_transition(O, O, 0.90)\n",
    "hmm.add_transition(O, D, 0.05)\n",
    "\n",
    "hmm.add_transition(D, O, 0.05)\n",
    "hmm.add_transition(D, D, 0.95)\n",
    "\n",
    "# we have to bake it before we can use it!\n",
    "hmm.bake()"
   ]
  },
  {
   "cell_type": "code",
   "execution_count": null,
   "metadata": {},
   "outputs": [],
   "source": [
    "# !!! after we bake the HMM, the order of our states may be changed :(\n",
    "# but we can easily get the new order from hmm.states\n",
    "stateNames = [state.name for state in hmm.states]\n",
    "\n",
    "# !!! None-start and None-end specify how state sequences start and end, but they are not actual states in the sequence\n",
    "stateNames"
   ]
  },
  {
   "cell_type": "markdown",
   "metadata": {},
   "source": [
    "### Initial HMM parameters in Pandas tables. These are just the values we specified above."
   ]
  },
  {
   "cell_type": "code",
   "execution_count": null,
   "metadata": {},
   "outputs": [],
   "source": [
    "trans = hmm.dense_transition_matrix()\n",
    "pd.DataFrame(trans, index=stateNames, columns=stateNames)"
   ]
  },
  {
   "cell_type": "code",
   "execution_count": null,
   "metadata": {},
   "outputs": [],
   "source": [
    "pd.DataFrame([state.distribution.parameters for state in hmm.states[:3]], index=stateNames[:3], columns=['mean', 'std'])"
   ]
  },
  {
   "cell_type": "markdown",
   "metadata": {},
   "source": [
    "### Probability that our initial postulated model explains our observations."
   ]
  },
  {
   "cell_type": "code",
   "execution_count": null,
   "metadata": {},
   "outputs": [],
   "source": [
    "hmm.probability(observations)"
   ]
  },
  {
   "cell_type": "code",
   "execution_count": null,
   "metadata": {},
   "outputs": [],
   "source": [
    "hmm.probability(observations[:100])  # less points"
   ]
  },
  {
   "cell_type": "code",
   "execution_count": null,
   "metadata": {},
   "outputs": [],
   "source": [
    "hmm.log_probability(observations)"
   ]
  },
  {
   "cell_type": "markdown",
   "metadata": {},
   "source": [
    "### Optimize the HMM parameters to best explain the first 10,000 time points of our observations."
   ]
  },
  {
   "cell_type": "code",
   "execution_count": null,
   "metadata": {},
   "outputs": [],
   "source": [
    "hmm.fit([observations[:10000]], algorithm='baum-welch');"
   ]
  },
  {
   "cell_type": "markdown",
   "metadata": {},
   "source": [
    "### Optimized HMM parameters in Pandas tables."
   ]
  },
  {
   "cell_type": "code",
   "execution_count": null,
   "metadata": {},
   "outputs": [],
   "source": [
    "trans = hmm.dense_transition_matrix()\n",
    "pd.DataFrame(trans, index=stateNames, columns=stateNames)"
   ]
  },
  {
   "cell_type": "code",
   "execution_count": null,
   "metadata": {},
   "outputs": [],
   "source": [
    "pd.DataFrame([state.distribution.parameters for state in hmm.states[:3]], index=stateNames[:3], columns=['mean', 'std'])"
   ]
  },
  {
   "cell_type": "markdown",
   "metadata": {},
   "source": [
    "### Probability that our optimized model explains our observations."
   ]
  },
  {
   "cell_type": "code",
   "execution_count": null,
   "metadata": {},
   "outputs": [],
   "source": [
    "hmm.log_probability(observations)"
   ]
  },
  {
   "cell_type": "markdown",
   "metadata": {},
   "source": [
    "---\n",
    "# Use the optimized HMM to predict the state sequence underlying the observations."
   ]
  },
  {
   "cell_type": "code",
   "execution_count": null,
   "metadata": {},
   "outputs": [],
   "source": [
    "predictedStates = hmm.predict(observations)"
   ]
  },
  {
   "cell_type": "code",
   "execution_count": null,
   "metadata": {},
   "outputs": [],
   "source": [
    "n = 10000\n",
    "plt.plot(observations[:n], alpha=0.2)\n",
    "plt.scatter(range(n), observations[:n], marker='.', c=predictedStates[:n], cmap='cool')\n",
    "plt.xlabel('Time Point')\n",
    "plt.ylabel('Observed (pA)')\n",
    "plt.title('Colored by HMM Predicted State');"
   ]
  },
  {
   "cell_type": "code",
   "execution_count": null,
   "metadata": {},
   "outputs": [],
   "source": [
    "predictedStateProb = hmm.predict_proba(observations)\n",
    "\n",
    "n = 10000\n",
    "plt.plot(predictedStateProb[:n], lw=2)\n",
    "plt.xlabel('Time Point')\n",
    "plt.ylabel('Probability')\n",
    "plt.title('HMM Predicted State Probabilities')\n",
    "plt.legend(stateNames[:3]);"
   ]
  },
  {
   "cell_type": "markdown",
   "metadata": {},
   "source": [
    "---\n",
    "---\n",
    "# <font color=red> Exercise Part 1\n",
    "\n",
    "Using pomegranate build a model with 2-4 states whose emitted observations come from normal distributions and which are connected by up to 6 possible allowed transitions. You choose exactly how many states between 2 and 4, what the emission distribution parameters are for each state, and what the transition probabilites are between states. Please make the states distinct from each other in some way, either in emission or transition rate, but not necessarily both. Also make the probability of staying in each state per time step at leat 0.5, otherwise their lifetime will be too close to the sample frequency.\n",
    "\n",
    "Simulate a sequence of at least 100,000 observations using your model.\n",
    "    \n",
    "### When you're done, hide/collapse all of the cells except for a plot of the simulated observations."
   ]
  },
  {
   "cell_type": "markdown",
   "metadata": {},
   "source": [
    "---\n",
    "---\n",
    "# <font color=red> Exercise Part 2\n",
    "\n",
    "With a partner, look at each others simulated observations and each of you postulate a model that might explain your partners simulation. Direct your partner to build and optimize your postulated model to explain their simulation.\n",
    "    \n",
    "### How close did you come to the model your partner usd for the simulation?"
   ]
  },
  {
   "cell_type": "code",
   "execution_count": null,
   "metadata": {},
   "outputs": [],
   "source": []
  }
 ],
 "metadata": {
  "kernelspec": {
   "display_name": "Python 3",
   "language": "python",
   "name": "python3"
  },
  "language_info": {
   "codemirror_mode": {
    "name": "ipython",
    "version": 3
   },
   "file_extension": ".py",
   "mimetype": "text/x-python",
   "name": "python",
   "nbconvert_exporter": "python",
   "pygments_lexer": "ipython3",
   "version": "3.7.5"
  }
 },
 "nbformat": 4,
 "nbformat_minor": 4
}
